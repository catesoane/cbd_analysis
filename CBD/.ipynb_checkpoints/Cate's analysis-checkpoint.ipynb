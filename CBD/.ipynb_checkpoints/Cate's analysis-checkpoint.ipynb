{
 "cells": [
  {
   "cell_type": "code",
   "execution_count": 96,
   "metadata": {},
   "outputs": [],
   "source": [
    "# import dependencies\n",
    "import numpy as np\n",
    "import pandas as pd\n",
    "import matplotlib.pyplot as plt"
   ]
  },
  {
   "cell_type": "code",
   "execution_count": 97,
   "metadata": {},
   "outputs": [],
   "source": [
    "# Read in files\n",
    "file = \"portal_demog.csv\"\n",
    "file2 = \"portal_ref_demog_sexuality.csv\"\n",
    "file3 = \"portal_ref_demog_gender.csv\"\n",
    "file4 = \"portal_ref_demog_age.csv\""
   ]
  },
  {
   "cell_type": "code",
   "execution_count": 98,
   "metadata": {},
   "outputs": [
    {
     "data": {
      "text/html": [
       "<div>\n",
       "<style scoped>\n",
       "    .dataframe tbody tr th:only-of-type {\n",
       "        vertical-align: middle;\n",
       "    }\n",
       "\n",
       "    .dataframe tbody tr th {\n",
       "        vertical-align: top;\n",
       "    }\n",
       "\n",
       "    .dataframe thead th {\n",
       "        text-align: right;\n",
       "    }\n",
       "</style>\n",
       "<table border=\"1\" class=\"dataframe\">\n",
       "  <thead>\n",
       "    <tr style=\"text-align: right;\">\n",
       "      <th></th>\n",
       "      <th>Response ID</th>\n",
       "      <th>country</th>\n",
       "      <th>state_province</th>\n",
       "      <th>age</th>\n",
       "      <th>gender</th>\n",
       "      <th>marital</th>\n",
       "      <th>sexuality</th>\n",
       "      <th>children</th>\n",
       "      <th>income</th>\n",
       "      <th>education</th>\n",
       "    </tr>\n",
       "  </thead>\n",
       "  <tbody>\n",
       "    <tr>\n",
       "      <th>0</th>\n",
       "      <td>139</td>\n",
       "      <td>1</td>\n",
       "      <td>6</td>\n",
       "      <td>3</td>\n",
       "      <td>2</td>\n",
       "      <td>3</td>\n",
       "      <td>3</td>\n",
       "      <td>0</td>\n",
       "      <td>6</td>\n",
       "      <td>3</td>\n",
       "    </tr>\n",
       "    <tr>\n",
       "      <th>1</th>\n",
       "      <td>157</td>\n",
       "      <td>1</td>\n",
       "      <td>6</td>\n",
       "      <td>9</td>\n",
       "      <td>1</td>\n",
       "      <td>3</td>\n",
       "      <td>1</td>\n",
       "      <td>1</td>\n",
       "      <td>2</td>\n",
       "      <td>3</td>\n",
       "    </tr>\n",
       "    <tr>\n",
       "      <th>2</th>\n",
       "      <td>157000</td>\n",
       "      <td>1</td>\n",
       "      <td>6</td>\n",
       "      <td>9</td>\n",
       "      <td>1</td>\n",
       "      <td>3</td>\n",
       "      <td>1</td>\n",
       "      <td>1</td>\n",
       "      <td>2</td>\n",
       "      <td>3</td>\n",
       "    </tr>\n",
       "    <tr>\n",
       "      <th>3</th>\n",
       "      <td>174</td>\n",
       "      <td>1</td>\n",
       "      <td>5</td>\n",
       "      <td>3</td>\n",
       "      <td>2</td>\n",
       "      <td>3</td>\n",
       "      <td>1</td>\n",
       "      <td>2</td>\n",
       "      <td>5</td>\n",
       "      <td>6</td>\n",
       "    </tr>\n",
       "    <tr>\n",
       "      <th>4</th>\n",
       "      <td>177</td>\n",
       "      <td>1</td>\n",
       "      <td>6</td>\n",
       "      <td>4</td>\n",
       "      <td>1</td>\n",
       "      <td>1</td>\n",
       "      <td>1</td>\n",
       "      <td>0</td>\n",
       "      <td>6</td>\n",
       "      <td>2</td>\n",
       "    </tr>\n",
       "  </tbody>\n",
       "</table>\n",
       "</div>"
      ],
      "text/plain": [
       "   Response ID  country  state_province  age  gender  marital  sexuality  \\\n",
       "0          139        1               6    3       2        3          3   \n",
       "1          157        1               6    9       1        3          1   \n",
       "2       157000        1               6    9       1        3          1   \n",
       "3          174        1               5    3       2        3          1   \n",
       "4          177        1               6    4       1        1          1   \n",
       "\n",
       "   children  income  education  \n",
       "0         0       6          3  \n",
       "1         1       2          3  \n",
       "2         1       2          3  \n",
       "3         2       5          6  \n",
       "4         0       6          2  "
      ]
     },
     "execution_count": 98,
     "metadata": {},
     "output_type": "execute_result"
    }
   ],
   "source": [
    "data = pd.read_csv(file)\n",
    "data.head()"
   ]
  },
  {
   "cell_type": "code",
   "execution_count": 99,
   "metadata": {},
   "outputs": [
    {
     "data": {
      "text/plain": [
       "Response ID       256\n",
       "country           256\n",
       "state_province    256\n",
       "age               256\n",
       "gender            256\n",
       "marital           256\n",
       "sexuality         256\n",
       "children          256\n",
       "income            256\n",
       "education         256\n",
       "dtype: int64"
      ]
     },
     "execution_count": 99,
     "metadata": {},
     "output_type": "execute_result"
    }
   ],
   "source": [
    " # Remove the rows with missing data\n",
    "data = data.dropna(how=\"any\")\n",
    "data.count()"
   ]
  },
  {
   "cell_type": "code",
   "execution_count": 100,
   "metadata": {},
   "outputs": [
    {
     "data": {
      "text/plain": [
       "1    135\n",
       "2    121\n",
       "Name: gender, dtype: int64"
      ]
     },
     "execution_count": 100,
     "metadata": {},
     "output_type": "execute_result"
    }
   ],
   "source": [
    "# Counts by gender 1 = male ; 2 = female\n",
    "gender_counts = data[\"gender\"].value_counts()\n",
    "gender_counts.head()"
   ]
  },
  {
   "cell_type": "code",
   "execution_count": 101,
   "metadata": {},
   "outputs": [
    {
     "data": {
      "text/plain": [
       "1    221\n",
       "2     22\n",
       "3     12\n",
       "4      1\n",
       "Name: sexuality, dtype: int64"
      ]
     },
     "execution_count": 101,
     "metadata": {},
     "output_type": "execute_result"
    }
   ],
   "source": [
    "# Counts by sexuality 1 = heterosexual; 2 = homosexual; 3 = bisexual; 4 = other; 5 = prefer not to answer\n",
    "sexuality_counts = data[\"sexuality\"].value_counts()\n",
    "sexuality_counts.head()"
   ]
  },
  {
   "cell_type": "code",
   "execution_count": 102,
   "metadata": {},
   "outputs": [
    {
     "data": {
      "text/plain": [
       "9    60\n",
       "3    39\n",
       "4    34\n",
       "5    33\n",
       "8    32\n",
       "7    29\n",
       "6    26\n",
       "2     3\n",
       "Name: age, dtype: int64"
      ]
     },
     "execution_count": 102,
     "metadata": {},
     "output_type": "execute_result"
    }
   ],
   "source": [
    "# Count how many sightings have occured within each state\n",
    "age_counts = data[\"age\"].value_counts()\n",
    "age_counts"
   ]
  },
  {
   "cell_type": "code",
   "execution_count": 103,
   "metadata": {},
   "outputs": [],
   "source": [
    "# # Using GroupBy in order to separate the data into fields according to \"gender\" values\n",
    "# grouped_gender_df = data.groupby(['gender'])\n",
    "# grouped_gender_df.count().head()"
   ]
  },
  {
   "cell_type": "code",
   "execution_count": 104,
   "metadata": {},
   "outputs": [
    {
     "data": {
      "text/html": [
       "<div>\n",
       "<style scoped>\n",
       "    .dataframe tbody tr th:only-of-type {\n",
       "        vertical-align: middle;\n",
       "    }\n",
       "\n",
       "    .dataframe tbody tr th {\n",
       "        vertical-align: top;\n",
       "    }\n",
       "\n",
       "    .dataframe thead th {\n",
       "        text-align: right;\n",
       "    }\n",
       "</style>\n",
       "<table border=\"1\" class=\"dataframe\">\n",
       "  <thead>\n",
       "    <tr style=\"text-align: right;\">\n",
       "      <th></th>\n",
       "      <th>Total Users</th>\n",
       "    </tr>\n",
       "  </thead>\n",
       "  <tbody>\n",
       "    <tr>\n",
       "      <th>0</th>\n",
       "      <td>256</td>\n",
       "    </tr>\n",
       "  </tbody>\n",
       "</table>\n",
       "</div>"
      ],
      "text/plain": [
       "   Total Users\n",
       "0          256"
      ]
     },
     "execution_count": 104,
     "metadata": {},
     "output_type": "execute_result"
    }
   ],
   "source": [
    "# Calculate the Number of Unique Users\n",
    "num_users = data[\"Response ID\"].nunique()\n",
    "# Display the total number of players\n",
    "total_df = pd.DataFrame({\"Total Users\": [num_users]})\n",
    "total_df"
   ]
  },
  {
   "cell_type": "code",
   "execution_count": 105,
   "metadata": {},
   "outputs": [
    {
     "data": {
      "text/html": [
       "<div>\n",
       "<style scoped>\n",
       "    .dataframe tbody tr th:only-of-type {\n",
       "        vertical-align: middle;\n",
       "    }\n",
       "\n",
       "    .dataframe tbody tr th {\n",
       "        vertical-align: top;\n",
       "    }\n",
       "\n",
       "    .dataframe thead th {\n",
       "        text-align: right;\n",
       "    }\n",
       "</style>\n",
       "<table border=\"1\" class=\"dataframe\">\n",
       "  <thead>\n",
       "    <tr style=\"text-align: right;\">\n",
       "      <th></th>\n",
       "      <th>demog_id</th>\n",
       "      <th>demog_name</th>\n",
       "    </tr>\n",
       "  </thead>\n",
       "  <tbody>\n",
       "    <tr>\n",
       "      <th>0</th>\n",
       "      <td>1</td>\n",
       "      <td>Heterosexual or straight</td>\n",
       "    </tr>\n",
       "    <tr>\n",
       "      <th>1</th>\n",
       "      <td>2</td>\n",
       "      <td>Homosexual</td>\n",
       "    </tr>\n",
       "    <tr>\n",
       "      <th>2</th>\n",
       "      <td>3</td>\n",
       "      <td>Bisexual</td>\n",
       "    </tr>\n",
       "    <tr>\n",
       "      <th>3</th>\n",
       "      <td>4</td>\n",
       "      <td>Other</td>\n",
       "    </tr>\n",
       "    <tr>\n",
       "      <th>4</th>\n",
       "      <td>5</td>\n",
       "      <td>I prefer not to say</td>\n",
       "    </tr>\n",
       "  </tbody>\n",
       "</table>\n",
       "</div>"
      ],
      "text/plain": [
       "   demog_id                demog_name\n",
       "0         1  Heterosexual or straight\n",
       "1         2                Homosexual\n",
       "2         3                  Bisexual\n",
       "3         4                     Other\n",
       "4         5       I prefer not to say"
      ]
     },
     "execution_count": 105,
     "metadata": {},
     "output_type": "execute_result"
    }
   ],
   "source": [
    "data2 = pd.read_csv(file2)\n",
    "data2.head()"
   ]
  },
  {
   "cell_type": "code",
   "execution_count": 106,
   "metadata": {},
   "outputs": [
    {
     "data": {
      "text/html": [
       "<div>\n",
       "<style scoped>\n",
       "    .dataframe tbody tr th:only-of-type {\n",
       "        vertical-align: middle;\n",
       "    }\n",
       "\n",
       "    .dataframe tbody tr th {\n",
       "        vertical-align: top;\n",
       "    }\n",
       "\n",
       "    .dataframe thead th {\n",
       "        text-align: right;\n",
       "    }\n",
       "</style>\n",
       "<table border=\"1\" class=\"dataframe\">\n",
       "  <thead>\n",
       "    <tr style=\"text-align: right;\">\n",
       "      <th></th>\n",
       "      <th>demog_gender_id</th>\n",
       "      <th>demog_gender_name</th>\n",
       "    </tr>\n",
       "  </thead>\n",
       "  <tbody>\n",
       "    <tr>\n",
       "      <th>0</th>\n",
       "      <td>1</td>\n",
       "      <td>Male</td>\n",
       "    </tr>\n",
       "    <tr>\n",
       "      <th>1</th>\n",
       "      <td>2</td>\n",
       "      <td>Female</td>\n",
       "    </tr>\n",
       "    <tr>\n",
       "      <th>2</th>\n",
       "      <td>3</td>\n",
       "      <td>Other</td>\n",
       "    </tr>\n",
       "  </tbody>\n",
       "</table>\n",
       "</div>"
      ],
      "text/plain": [
       "   demog_gender_id demog_gender_name\n",
       "0                1              Male\n",
       "1                2            Female\n",
       "2                3             Other"
      ]
     },
     "execution_count": 106,
     "metadata": {},
     "output_type": "execute_result"
    }
   ],
   "source": [
    "data3 = pd.read_csv(file3)\n",
    "data3.head()"
   ]
  },
  {
   "cell_type": "code",
   "execution_count": 107,
   "metadata": {},
   "outputs": [
    {
     "data": {
      "text/html": [
       "<div>\n",
       "<style scoped>\n",
       "    .dataframe tbody tr th:only-of-type {\n",
       "        vertical-align: middle;\n",
       "    }\n",
       "\n",
       "    .dataframe tbody tr th {\n",
       "        vertical-align: top;\n",
       "    }\n",
       "\n",
       "    .dataframe thead th {\n",
       "        text-align: right;\n",
       "    }\n",
       "</style>\n",
       "<table border=\"1\" class=\"dataframe\">\n",
       "  <thead>\n",
       "    <tr style=\"text-align: right;\">\n",
       "      <th></th>\n",
       "      <th>demog_age_id</th>\n",
       "      <th>demog_age_name</th>\n",
       "      <th>demog_age_group</th>\n",
       "    </tr>\n",
       "  </thead>\n",
       "  <tbody>\n",
       "    <tr>\n",
       "      <th>0</th>\n",
       "      <td>1</td>\n",
       "      <td>Under 18</td>\n",
       "      <td>Generation Z</td>\n",
       "    </tr>\n",
       "    <tr>\n",
       "      <th>1</th>\n",
       "      <td>2</td>\n",
       "      <td>18-20</td>\n",
       "      <td>Generation Z</td>\n",
       "    </tr>\n",
       "    <tr>\n",
       "      <th>2</th>\n",
       "      <td>3</td>\n",
       "      <td>21-25</td>\n",
       "      <td>Millenials</td>\n",
       "    </tr>\n",
       "    <tr>\n",
       "      <th>3</th>\n",
       "      <td>4</td>\n",
       "      <td>26-30</td>\n",
       "      <td>Millenials</td>\n",
       "    </tr>\n",
       "    <tr>\n",
       "      <th>4</th>\n",
       "      <td>5</td>\n",
       "      <td>31-35</td>\n",
       "      <td>Millenials</td>\n",
       "    </tr>\n",
       "  </tbody>\n",
       "</table>\n",
       "</div>"
      ],
      "text/plain": [
       "   demog_age_id demog_age_name demog_age_group\n",
       "0             1       Under 18    Generation Z\n",
       "1             2          18-20    Generation Z\n",
       "2             3          21-25      Millenials\n",
       "3             4          26-30      Millenials\n",
       "4             5          31-35      Millenials"
      ]
     },
     "execution_count": 107,
     "metadata": {},
     "output_type": "execute_result"
    }
   ],
   "source": [
    "data4 = pd.read_csv(file4)\n",
    "data4.head()"
   ]
  },
  {
   "cell_type": "code",
   "execution_count": 108,
   "metadata": {},
   "outputs": [
    {
     "name": "stdout",
     "output_type": "stream",
     "text": [
      "12\n"
     ]
    }
   ],
   "source": [
    "# Group sexuality based on reference number\n",
    "\n",
    "heterosexual = data[data[\"sexuality\"] == 1]\n",
    "homosexual = data[data[\"sexuality\"] == 2]\n",
    "bisexual = data[data[\"sexuality\"] == 3]\n",
    "other = data[data[\"sexuality\"] == 4]\n",
    "prefer_not_to_say = data[data[\"sexuality\"] == 5]\n",
    "\n",
    "print(len(bisexual))\n"
   ]
  },
  {
   "cell_type": "code",
   "execution_count": 109,
   "metadata": {},
   "outputs": [
    {
     "data": {
      "text/html": [
       "<div>\n",
       "<style scoped>\n",
       "    .dataframe tbody tr th:only-of-type {\n",
       "        vertical-align: middle;\n",
       "    }\n",
       "\n",
       "    .dataframe tbody tr th {\n",
       "        vertical-align: top;\n",
       "    }\n",
       "\n",
       "    .dataframe thead th {\n",
       "        text-align: right;\n",
       "    }\n",
       "</style>\n",
       "<table border=\"1\" class=\"dataframe\">\n",
       "  <thead>\n",
       "    <tr style=\"text-align: right;\">\n",
       "      <th></th>\n",
       "      <th>Response ID</th>\n",
       "      <th>country</th>\n",
       "      <th>state_province</th>\n",
       "      <th>age</th>\n",
       "      <th>gender</th>\n",
       "      <th>marital</th>\n",
       "      <th>sexuality</th>\n",
       "      <th>children</th>\n",
       "      <th>income</th>\n",
       "      <th>education</th>\n",
       "    </tr>\n",
       "  </thead>\n",
       "  <tbody>\n",
       "    <tr>\n",
       "      <th>0</th>\n",
       "      <td>139</td>\n",
       "      <td>1</td>\n",
       "      <td>6</td>\n",
       "      <td>3</td>\n",
       "      <td>2</td>\n",
       "      <td>3</td>\n",
       "      <td>3</td>\n",
       "      <td>0</td>\n",
       "      <td>6</td>\n",
       "      <td>3</td>\n",
       "    </tr>\n",
       "    <tr>\n",
       "      <th>44</th>\n",
       "      <td>307</td>\n",
       "      <td>1</td>\n",
       "      <td>5</td>\n",
       "      <td>2</td>\n",
       "      <td>2</td>\n",
       "      <td>2</td>\n",
       "      <td>3</td>\n",
       "      <td>0</td>\n",
       "      <td>2</td>\n",
       "      <td>3</td>\n",
       "    </tr>\n",
       "    <tr>\n",
       "      <th>71</th>\n",
       "      <td>503</td>\n",
       "      <td>1</td>\n",
       "      <td>5</td>\n",
       "      <td>4</td>\n",
       "      <td>2</td>\n",
       "      <td>1</td>\n",
       "      <td>3</td>\n",
       "      <td>0</td>\n",
       "      <td>2</td>\n",
       "      <td>3</td>\n",
       "    </tr>\n",
       "    <tr>\n",
       "      <th>91</th>\n",
       "      <td>555</td>\n",
       "      <td>1</td>\n",
       "      <td>38</td>\n",
       "      <td>8</td>\n",
       "      <td>2</td>\n",
       "      <td>1</td>\n",
       "      <td>3</td>\n",
       "      <td>5</td>\n",
       "      <td>3</td>\n",
       "      <td>3</td>\n",
       "    </tr>\n",
       "    <tr>\n",
       "      <th>103</th>\n",
       "      <td>613</td>\n",
       "      <td>1</td>\n",
       "      <td>5</td>\n",
       "      <td>3</td>\n",
       "      <td>2</td>\n",
       "      <td>1</td>\n",
       "      <td>3</td>\n",
       "      <td>1</td>\n",
       "      <td>6</td>\n",
       "      <td>3</td>\n",
       "    </tr>\n",
       "    <tr>\n",
       "      <th>113</th>\n",
       "      <td>643</td>\n",
       "      <td>1</td>\n",
       "      <td>38</td>\n",
       "      <td>4</td>\n",
       "      <td>2</td>\n",
       "      <td>3</td>\n",
       "      <td>3</td>\n",
       "      <td>0</td>\n",
       "      <td>5</td>\n",
       "      <td>3</td>\n",
       "    </tr>\n",
       "    <tr>\n",
       "      <th>134</th>\n",
       "      <td>758</td>\n",
       "      <td>1</td>\n",
       "      <td>5</td>\n",
       "      <td>9</td>\n",
       "      <td>2</td>\n",
       "      <td>4</td>\n",
       "      <td>3</td>\n",
       "      <td>0</td>\n",
       "      <td>3</td>\n",
       "      <td>4</td>\n",
       "    </tr>\n",
       "    <tr>\n",
       "      <th>153</th>\n",
       "      <td>809</td>\n",
       "      <td>1</td>\n",
       "      <td>29</td>\n",
       "      <td>5</td>\n",
       "      <td>2</td>\n",
       "      <td>1</td>\n",
       "      <td>3</td>\n",
       "      <td>0</td>\n",
       "      <td>0</td>\n",
       "      <td>2</td>\n",
       "    </tr>\n",
       "    <tr>\n",
       "      <th>179</th>\n",
       "      <td>891</td>\n",
       "      <td>1</td>\n",
       "      <td>5</td>\n",
       "      <td>3</td>\n",
       "      <td>2</td>\n",
       "      <td>1</td>\n",
       "      <td>3</td>\n",
       "      <td>0</td>\n",
       "      <td>2</td>\n",
       "      <td>3</td>\n",
       "    </tr>\n",
       "    <tr>\n",
       "      <th>225</th>\n",
       "      <td>1160</td>\n",
       "      <td>1</td>\n",
       "      <td>29</td>\n",
       "      <td>4</td>\n",
       "      <td>2</td>\n",
       "      <td>1</td>\n",
       "      <td>3</td>\n",
       "      <td>0</td>\n",
       "      <td>5</td>\n",
       "      <td>3</td>\n",
       "    </tr>\n",
       "    <tr>\n",
       "      <th>232</th>\n",
       "      <td>1185</td>\n",
       "      <td>1</td>\n",
       "      <td>5</td>\n",
       "      <td>6</td>\n",
       "      <td>1</td>\n",
       "      <td>1</td>\n",
       "      <td>3</td>\n",
       "      <td>0</td>\n",
       "      <td>7</td>\n",
       "      <td>6</td>\n",
       "    </tr>\n",
       "    <tr>\n",
       "      <th>233</th>\n",
       "      <td>1185000</td>\n",
       "      <td>1</td>\n",
       "      <td>5</td>\n",
       "      <td>6</td>\n",
       "      <td>1</td>\n",
       "      <td>1</td>\n",
       "      <td>3</td>\n",
       "      <td>0</td>\n",
       "      <td>7</td>\n",
       "      <td>6</td>\n",
       "    </tr>\n",
       "  </tbody>\n",
       "</table>\n",
       "</div>"
      ],
      "text/plain": [
       "     Response ID  country  state_province  age  gender  marital  sexuality  \\\n",
       "0            139        1               6    3       2        3          3   \n",
       "44           307        1               5    2       2        2          3   \n",
       "71           503        1               5    4       2        1          3   \n",
       "91           555        1              38    8       2        1          3   \n",
       "103          613        1               5    3       2        1          3   \n",
       "113          643        1              38    4       2        3          3   \n",
       "134          758        1               5    9       2        4          3   \n",
       "153          809        1              29    5       2        1          3   \n",
       "179          891        1               5    3       2        1          3   \n",
       "225         1160        1              29    4       2        1          3   \n",
       "232         1185        1               5    6       1        1          3   \n",
       "233      1185000        1               5    6       1        1          3   \n",
       "\n",
       "     children  income  education  \n",
       "0           0       6          3  \n",
       "44          0       2          3  \n",
       "71          0       2          3  \n",
       "91          5       3          3  \n",
       "103         1       6          3  \n",
       "113         0       5          3  \n",
       "134         0       3          4  \n",
       "153         0       0          2  \n",
       "179         0       2          3  \n",
       "225         0       5          3  \n",
       "232         0       7          6  \n",
       "233         0       7          6  "
      ]
     },
     "execution_count": 109,
     "metadata": {},
     "output_type": "execute_result"
    }
   ],
   "source": [
    "bisexual"
   ]
  },
  {
   "cell_type": "code",
   "execution_count": 110,
   "metadata": {},
   "outputs": [
    {
     "data": {
      "text/html": [
       "<div>\n",
       "<style scoped>\n",
       "    .dataframe tbody tr th:only-of-type {\n",
       "        vertical-align: middle;\n",
       "    }\n",
       "\n",
       "    .dataframe tbody tr th {\n",
       "        vertical-align: top;\n",
       "    }\n",
       "\n",
       "    .dataframe thead th {\n",
       "        text-align: right;\n",
       "    }\n",
       "</style>\n",
       "<table border=\"1\" class=\"dataframe\">\n",
       "  <thead>\n",
       "    <tr style=\"text-align: right;\">\n",
       "      <th></th>\n",
       "      <th>Heterosexual</th>\n",
       "      <th>Homosexual</th>\n",
       "      <th>Bisexual</th>\n",
       "      <th>Other</th>\n",
       "      <th>Prefer Not To Say</th>\n",
       "    </tr>\n",
       "  </thead>\n",
       "  <tbody>\n",
       "    <tr>\n",
       "      <th>0</th>\n",
       "      <td>221</td>\n",
       "      <td>22</td>\n",
       "      <td>12</td>\n",
       "      <td>1</td>\n",
       "      <td>0</td>\n",
       "    </tr>\n",
       "  </tbody>\n",
       "</table>\n",
       "</div>"
      ],
      "text/plain": [
       "   Heterosexual  Homosexual  Bisexual  Other  Prefer Not To Say\n",
       "0           221          22        12      1                  0"
      ]
     },
     "execution_count": 110,
     "metadata": {},
     "output_type": "execute_result"
    }
   ],
   "source": [
    "# Create sexuality dataframe\n",
    "sexuality_table = pd.DataFrame({\"Heterosexual\": [len(heterosexual)],\n",
    "                              \"Homosexual\": [len(homosexual)],\n",
    "                                \"Bisexual\": [len(bisexual)],\n",
    "                                \"Other\": [len(other)],\n",
    "                                \"Prefer Not To Say\": [len(prefer_not_to_say)]\n",
    "                              })\n",
    "\n",
    "sexuality_table"
   ]
  },
  {
   "cell_type": "code",
   "execution_count": 111,
   "metadata": {},
   "outputs": [
    {
     "data": {
      "text/html": [
       "<div>\n",
       "<style scoped>\n",
       "    .dataframe tbody tr th:only-of-type {\n",
       "        vertical-align: middle;\n",
       "    }\n",
       "\n",
       "    .dataframe tbody tr th {\n",
       "        vertical-align: top;\n",
       "    }\n",
       "\n",
       "    .dataframe thead th {\n",
       "        text-align: right;\n",
       "    }\n",
       "</style>\n",
       "<table border=\"1\" class=\"dataframe\">\n",
       "  <thead>\n",
       "    <tr style=\"text-align: right;\">\n",
       "      <th></th>\n",
       "      <th>Total Heterosexual Count</th>\n",
       "      <th>Percentage of Heterosexuals</th>\n",
       "      <th>Total Homosexual Count</th>\n",
       "      <th>Percentage of Homorosexuals</th>\n",
       "      <th>Total Bisexual Count</th>\n",
       "      <th>Percentage of Bisexuals</th>\n",
       "      <th>Total Other Count</th>\n",
       "      <th>Percentage of Other</th>\n",
       "      <th>Total No Answer Count</th>\n",
       "      <th>Percentage of No Answers</th>\n",
       "    </tr>\n",
       "  </thead>\n",
       "  <tbody>\n",
       "    <tr>\n",
       "      <th>0</th>\n",
       "      <td>221</td>\n",
       "      <td>86.33</td>\n",
       "      <td>22</td>\n",
       "      <td>8.59</td>\n",
       "      <td>12</td>\n",
       "      <td>4.69</td>\n",
       "      <td>1</td>\n",
       "      <td>0.39</td>\n",
       "      <td>0</td>\n",
       "      <td>0.0</td>\n",
       "    </tr>\n",
       "  </tbody>\n",
       "</table>\n",
       "</div>"
      ],
      "text/plain": [
       "   Total Heterosexual Count  Percentage of Heterosexuals  \\\n",
       "0                       221                        86.33   \n",
       "\n",
       "   Total Homosexual Count  Percentage of Homorosexuals  Total Bisexual Count  \\\n",
       "0                      22                         8.59                    12   \n",
       "\n",
       "   Percentage of Bisexuals  Total Other Count  Percentage of Other  \\\n",
       "0                     4.69                  1                 0.39   \n",
       "\n",
       "   Total No Answer Count  Percentage of No Answers  \n",
       "0                      0                       0.0  "
      ]
     },
     "execution_count": 111,
     "metadata": {},
     "output_type": "execute_result"
    }
   ],
   "source": [
    "# Calculate the Number and Percentage by Sexuality\n",
    "heterosexual_totals = sexuality_table[\"Heterosexual\"]\n",
    "heterosexual_percents = heterosexual_totals / num_users * 100\n",
    "homosexual_totals = sexuality_table[\"Homosexual\"]\n",
    "homosexual_percents = homosexual_totals / num_users * 100\n",
    "bisexual_totals = sexuality_table[\"Bisexual\"]\n",
    "bisexual_percents = bisexual_totals / num_users * 100\n",
    "other_totals = sexuality_table[\"Other\"]\n",
    "other_percents = other_totals / num_users * 100\n",
    "not_totals = sexuality_table[\"Prefer Not To Say\"]\n",
    "not_percents = not_totals / num_users * 100\n",
    "\n",
    "# Create Sexuality DataFrame\n",
    "sexuality_demographics = pd.DataFrame({\"Total Heterosexual Count\": heterosexual_totals, \n",
    "                                    \"Percentage of Heterosexuals\": heterosexual_percents,\n",
    "                                       \"Total Homosexual Count\": homosexual_totals, \n",
    "                                    \"Percentage of Homorosexuals\": homosexual_percents,\n",
    "                                       \"Total Bisexual Count\": bisexual_totals, \n",
    "                                    \"Percentage of Bisexuals\": bisexual_percents,\n",
    "                                       \"Total Other Count\": other_totals, \n",
    "                                    \"Percentage of Other\": other_percents,\n",
    "                                       \"Total No Answer Count\": not_totals, \n",
    "                                    \"Percentage of No Answers\": not_percents\n",
    "                                      })\n",
    "\n",
    "# Minor Data Munging\n",
    "sexuality_demographics = sexuality_demographics.round(2)\n",
    "\n",
    "sexuality_demographics"
   ]
  },
  {
   "cell_type": "code",
   "execution_count": 112,
   "metadata": {},
   "outputs": [
    {
     "data": {
      "image/png": "[encoded data removed]",
      "text/plain": [
       "<matplotlib.figure.Figure at 0x11e827828>"
      ]
     },
     "metadata": {},
     "output_type": "display_data"
    }
   ],
   "source": [
    "# Create Sexuality Breakdown Graph\n",
    "sexuality_table.plot.bar()\n",
    "plt.title(\"Sexuality Breakdown\")\n",
    "plt.ylabel(\"Number of People\")\n",
    "plt.xlabel(\"Sexuality\")\n",
    "plt.grid(True)\n",
    "\n",
    "plt.show()\n",
    "\n",
    "# Most users are consider themselves to be heterosexual (86.33%)"
   ]
  },
  {
   "cell_type": "code",
   "execution_count": 113,
   "metadata": {},
   "outputs": [],
   "source": [
    "# Group sexuality based on reference number\n",
    "male = data[data[\"gender\"] == 1]\n",
    "female = data[data[\"gender\"] == 2]\n",
    "other = data[data[\"gender\"] == 3]"
   ]
  },
  {
   "cell_type": "code",
   "execution_count": 114,
   "metadata": {},
   "outputs": [
    {
     "data": {
      "text/html": [
       "<div>\n",
       "<style scoped>\n",
       "    .dataframe tbody tr th:only-of-type {\n",
       "        vertical-align: middle;\n",
       "    }\n",
       "\n",
       "    .dataframe tbody tr th {\n",
       "        vertical-align: top;\n",
       "    }\n",
       "\n",
       "    .dataframe thead th {\n",
       "        text-align: right;\n",
       "    }\n",
       "</style>\n",
       "<table border=\"1\" class=\"dataframe\">\n",
       "  <thead>\n",
       "    <tr style=\"text-align: right;\">\n",
       "      <th></th>\n",
       "      <th>Male</th>\n",
       "      <th>Female</th>\n",
       "      <th>Other</th>\n",
       "    </tr>\n",
       "  </thead>\n",
       "  <tbody>\n",
       "    <tr>\n",
       "      <th>0</th>\n",
       "      <td>221</td>\n",
       "      <td>22</td>\n",
       "      <td>12</td>\n",
       "    </tr>\n",
       "  </tbody>\n",
       "</table>\n",
       "</div>"
      ],
      "text/plain": [
       "   Male  Female  Other\n",
       "0   221      22     12"
      ]
     },
     "execution_count": 114,
     "metadata": {},
     "output_type": "execute_result"
    }
   ],
   "source": [
    "# Create gender dataframe\n",
    "gender_table = pd.DataFrame({\"Male\": [len(heterosexual)],\n",
    "                              \"Female\": [len(homosexual)],\n",
    "                                \"Other\": [len(bisexual)]\n",
    "                              })\n",
    "\n",
    "gender_table"
   ]
  },
  {
   "cell_type": "code",
   "execution_count": 115,
   "metadata": {},
   "outputs": [
    {
     "data": {
      "text/html": [
       "<div>\n",
       "<style scoped>\n",
       "    .dataframe tbody tr th:only-of-type {\n",
       "        vertical-align: middle;\n",
       "    }\n",
       "\n",
       "    .dataframe tbody tr th {\n",
       "        vertical-align: top;\n",
       "    }\n",
       "\n",
       "    .dataframe thead th {\n",
       "        text-align: right;\n",
       "    }\n",
       "</style>\n",
       "<table border=\"1\" class=\"dataframe\">\n",
       "  <thead>\n",
       "    <tr style=\"text-align: right;\">\n",
       "      <th></th>\n",
       "      <th>Total Male Count</th>\n",
       "      <th>Percentage of Males</th>\n",
       "      <th>Total Female Count</th>\n",
       "      <th>Percentage of Females</th>\n",
       "      <th>Total Other Count</th>\n",
       "      <th>Percentage of Others</th>\n",
       "    </tr>\n",
       "  </thead>\n",
       "  <tbody>\n",
       "    <tr>\n",
       "      <th>0</th>\n",
       "      <td>221</td>\n",
       "      <td>86.67</td>\n",
       "      <td>22</td>\n",
       "      <td>8.63</td>\n",
       "      <td>12</td>\n",
       "      <td>4.71</td>\n",
       "    </tr>\n",
       "  </tbody>\n",
       "</table>\n",
       "</div>"
      ],
      "text/plain": [
       "   Total Male Count  Percentage of Males  Total Female Count  \\\n",
       "0               221                86.67                  22   \n",
       "\n",
       "   Percentage of Females  Total Other Count  Percentage of Others  \n",
       "0                   8.63                 12                  4.71  "
      ]
     },
     "execution_count": 115,
     "metadata": {},
     "output_type": "execute_result"
    }
   ],
   "source": [
    "# Calculate the Number and Percentage by Sexuality\n",
    "total_gender_count = gender_table[\"Male\"]+gender_table[\"Female\"]+gender_table[\"Other\"]\n",
    "\n",
    "male_totals = gender_table[\"Male\"]\n",
    "male_percents = male_totals / total_gender_count * 100\n",
    "female_totals = gender_table[\"Female\"]\n",
    "female_percents = female_totals / total_gender_count * 100\n",
    "other_totals = gender_table[\"Other\"]\n",
    "other_percents = other_totals / total_gender_count * 100\n",
    "\n",
    "\n",
    "# Create Sexuality DataFrame\n",
    "gender_demographics = pd.DataFrame({\"Total Male Count\": male_totals, \n",
    "                                    \"Percentage of Males\": male_percents,\n",
    "                                       \"Total Female Count\": female_totals, \n",
    "                                    \"Percentage of Females\": female_percents,\n",
    "                                       \"Total Other Count\": other_totals, \n",
    "                                    \"Percentage of Others\": other_percents\n",
    "                                      })\n",
    "\n",
    "# Minor Data Munging\n",
    "gender_demographics = gender_demographics.round(2)\n",
    "\n",
    "gender_demographics"
   ]
  },
  {
   "cell_type": "code",
   "execution_count": 116,
   "metadata": {},
   "outputs": [
    {
     "data": {
      "image/png": "[encoded data removed]",
      "text/plain": [
       "<matplotlib.figure.Figure at 0x11e98f4a8>"
      ]
     },
     "metadata": {},
     "output_type": "display_data"
    }
   ],
   "source": [
    "# Create Gender Breakdown graph\n",
    "gender_table.plot.bar()\n",
    "plt.title(\"Gender Breakdown\")\n",
    "plt.ylabel(\"Number of People\")\n",
    "plt.xlabel(\"Gender\")\n",
    "plt.grid(True)\n",
    "\n",
    "plt.show()\n",
    "\n",
    "# The majority of users are male"
   ]
  },
  {
   "cell_type": "code",
   "execution_count": 117,
   "metadata": {},
   "outputs": [],
   "source": [
    "# Group generation data based on reference number\n",
    "\n",
    "under18 = data[data[\"age\"] == 1]\n",
    "_18_20= data[data[\"age\"] == 2]\n",
    "_21_25 = data[data[\"age\"] == 3]\n",
    "_26_30 = data[data[\"age\"] == 4]\n",
    "_31_35 = data[data[\"age\"] == 5]\n",
    "_36_40 = data[data[\"age\"] == 6]\n",
    "_41_45 = data[data[\"age\"] == 7]\n",
    "_46_55 = data[data[\"age\"] == 8]\n",
    "_56_79 = data[data[\"age\"] == 9]\n",
    "_80plus = data[data[\"age\"] == 10]\n"
   ]
  },
  {
   "cell_type": "code",
   "execution_count": 118,
   "metadata": {},
   "outputs": [
    {
     "data": {
      "text/html": [
       "<div>\n",
       "<style scoped>\n",
       "    .dataframe tbody tr th:only-of-type {\n",
       "        vertical-align: middle;\n",
       "    }\n",
       "\n",
       "    .dataframe tbody tr th {\n",
       "        vertical-align: top;\n",
       "    }\n",
       "\n",
       "    .dataframe thead th {\n",
       "        text-align: right;\n",
       "    }\n",
       "</style>\n",
       "<table border=\"1\" class=\"dataframe\">\n",
       "  <thead>\n",
       "    <tr style=\"text-align: right;\">\n",
       "      <th></th>\n",
       "      <th>Under 18</th>\n",
       "      <th>18-20</th>\n",
       "      <th>21-25</th>\n",
       "      <th>26-30</th>\n",
       "      <th>31-35</th>\n",
       "      <th>36-40</th>\n",
       "      <th>41-45</th>\n",
       "      <th>46-55</th>\n",
       "      <th>56-79</th>\n",
       "      <th>80 Plus</th>\n",
       "    </tr>\n",
       "  </thead>\n",
       "  <tbody>\n",
       "    <tr>\n",
       "      <th>0</th>\n",
       "      <td>0</td>\n",
       "      <td>3</td>\n",
       "      <td>39</td>\n",
       "      <td>34</td>\n",
       "      <td>33</td>\n",
       "      <td>26</td>\n",
       "      <td>29</td>\n",
       "      <td>32</td>\n",
       "      <td>60</td>\n",
       "      <td>0</td>\n",
       "    </tr>\n",
       "  </tbody>\n",
       "</table>\n",
       "</div>"
      ],
      "text/plain": [
       "   Under 18  18-20  21-25  26-30  31-35  36-40  41-45  46-55  56-79  80 Plus\n",
       "0         0      3     39     34     33     26     29     32     60        0"
      ]
     },
     "execution_count": 118,
     "metadata": {},
     "output_type": "execute_result"
    }
   ],
   "source": [
    "# Create sexuality dataframe\n",
    "age_table = pd.DataFrame({\"Under 18\": [len(under18)],\n",
    "                              \"18-20\": [len(_18_20)],\n",
    "                                \"21-25\": [len(_21_25)],\n",
    "                                \"26-30\": [len(_26_30)],\n",
    "                                \"31-35\": [len(_31_35)],\n",
    "                          \"36-40\": [len(_36_40)],\n",
    "                          \"41-45\": [len(_41_45)],\n",
    "                          \"46-55\": [len(_46_55)],\n",
    "                          \"56-79\": [len(_56_79)],\n",
    "                          \"80 Plus\": [len(_80plus)]\n",
    "                              })\n",
    "\n",
    "age_table"
   ]
  },
  {
   "cell_type": "code",
   "execution_count": 119,
   "metadata": {},
   "outputs": [
    {
     "data": {
      "text/html": [
       "<div>\n",
       "<style scoped>\n",
       "    .dataframe tbody tr th:only-of-type {\n",
       "        vertical-align: middle;\n",
       "    }\n",
       "\n",
       "    .dataframe tbody tr th {\n",
       "        vertical-align: top;\n",
       "    }\n",
       "\n",
       "    .dataframe thead th {\n",
       "        text-align: right;\n",
       "    }\n",
       "</style>\n",
       "<table border=\"1\" class=\"dataframe\">\n",
       "  <thead>\n",
       "    <tr style=\"text-align: right;\">\n",
       "      <th></th>\n",
       "      <th>Total Male Count</th>\n",
       "      <th>Percentage of Males</th>\n",
       "      <th>Total Female Count</th>\n",
       "      <th>Percentage of Females</th>\n",
       "      <th>Total Other Count</th>\n",
       "      <th>Percentage of Others</th>\n",
       "    </tr>\n",
       "  </thead>\n",
       "  <tbody>\n",
       "    <tr>\n",
       "      <th>0</th>\n",
       "      <td>221</td>\n",
       "      <td>86.67</td>\n",
       "      <td>22</td>\n",
       "      <td>8.63</td>\n",
       "      <td>12</td>\n",
       "      <td>4.71</td>\n",
       "    </tr>\n",
       "  </tbody>\n",
       "</table>\n",
       "</div>"
      ],
      "text/plain": [
       "   Total Male Count  Percentage of Males  Total Female Count  \\\n",
       "0               221                86.67                  22   \n",
       "\n",
       "   Percentage of Females  Total Other Count  Percentage of Others  \n",
       "0                   8.63                 12                  4.71  "
      ]
     },
     "execution_count": 119,
     "metadata": {},
     "output_type": "execute_result"
    }
   ],
   "source": [
    "# Calculate the Number and Percentage by Sexuality\n",
    "total_age_count = gender_table[\"Male\"]+gender_table[\"Female\"]+gender_table[\"Other\"]\n",
    "\n",
    "male_totals = gender_table[\"Male\"]\n",
    "male_percents = male_totals / total_gender_count * 100\n",
    "female_totals = gender_table[\"Female\"]\n",
    "female_percents = female_totals / total_gender_count * 100\n",
    "other_totals = gender_table[\"Other\"]\n",
    "other_percents = other_totals / total_gender_count * 100\n",
    "\n",
    "\n",
    "# Create Sexuality DataFrame\n",
    "gender_demographics = pd.DataFrame({\"Total Male Count\": male_totals, \n",
    "                                    \"Percentage of Males\": male_percents,\n",
    "                                       \"Total Female Count\": female_totals, \n",
    "                                    \"Percentage of Females\": female_percents,\n",
    "                                       \"Total Other Count\": other_totals, \n",
    "                                    \"Percentage of Others\": other_percents\n",
    "                                      })\n",
    "\n",
    "# Minor Data Munging\n",
    "gender_demographics = gender_demographics.round(2)\n",
    "\n",
    "gender_demographics"
   ]
  },
  {
   "cell_type": "code",
   "execution_count": 120,
   "metadata": {},
   "outputs": [
    {
     "data": {
      "image/png": "[encoded data removed]",
      "text/plain": [
       "<matplotlib.figure.Figure at 0x11ecd1710>"
      ]
     },
     "metadata": {},
     "output_type": "display_data"
    }
   ],
   "source": [
    "# Create Age Breakdown graph\n",
    "age_table.plot.bar()\n",
    "plt.title(\"Age Breakdown\")\n",
    "plt.ylabel(\"Number of People\")\n",
    "plt.xlabel(\"Age Groups\")\n",
    "plt.grid(True)\n",
    "plt.show()\n",
    "\n"
   ]
  }
 ],
 "metadata": {
  "kernelspec": {
   "display_name": "Python 3",
   "language": "python",
   "name": "python3"
  },
  "language_info": {
   "codemirror_mode": {
    "name": "ipython",
    "version": 3
   },
   "file_extension": ".py",
   "mimetype": "text/x-python",
   "name": "python",
   "nbconvert_exporter": "python",
   "pygments_lexer": "ipython3",
   "version": "3.6.4"
  }
 },
 "nbformat": 4,
 "nbformat_minor": 2
}
